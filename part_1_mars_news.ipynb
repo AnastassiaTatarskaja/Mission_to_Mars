{
 "cells": [
  {
   "cell_type": "markdown",
   "metadata": {},
   "source": [
    "# Module 12 Challenge\n",
    "## Deliverable 1: Scrape Titles and Preview Text from Mars News"
   ]
  },
  {
   "cell_type": "code",
   "execution_count": 1,
   "metadata": {},
   "outputs": [],
   "source": [
    "# Import Splinter and BeautifulSoup\n",
    "from splinter import Browser\n",
    "from bs4 import BeautifulSoup as soup\n",
    "from webdriver_manager.chrome import ChromeDriverManager"
   ]
  },
  {
   "cell_type": "code",
   "execution_count": 2,
   "metadata": {
    "scrolled": true
   },
   "outputs": [],
   "source": [
    "executable_path = {'executable_path': ChromeDriverManager().install()}\n",
    "browser = Browser('chrome', **executable_path, headless=False)"
   ]
  },
  {
   "cell_type": "markdown",
   "metadata": {},
   "source": [
    "### Step 1: Visit the Website\n",
    "\n",
    "1. Use automated browsing to visit the [Mars NASA news site](https://redplanetscience.com). Inspect the page to identify which elements to scrape.\n",
    "\n",
    "      > **Hint** To identify which elements to scrape, you might want to inspect the page by using Chrome DevTools."
   ]
  },
  {
   "cell_type": "code",
   "execution_count": 3,
   "metadata": {},
   "outputs": [],
   "source": [
    "# Visit the Mars NASA news site: https://redplanetscience.com\n",
    "url = 'https://redplanetscience.com'\n",
    "browser.visit(url)\n",
    "# Optional delay for loading the page\n",
    "#browser.is_element_present_by_css('div.list_text', wait_time=1)"
   ]
  },
  {
   "cell_type": "markdown",
   "metadata": {},
   "source": [
    "### Step 2: Scrape the Website\n",
    "\n",
    "Create a Beautiful Soup object and use it to extract text elements from the website."
   ]
  },
  {
   "cell_type": "code",
   "execution_count": 4,
   "metadata": {},
   "outputs": [],
   "source": [
    "# Create a Beautiful Soup object\n",
    "html = browser.html\n",
    "news_soup = soup(html, 'html.parser')\n",
    "slide_elem = news_soup.select_one('div.list_text')\n"
   ]
  },
  {
   "cell_type": "code",
   "execution_count": 14,
   "metadata": {},
   "outputs": [
    {
     "name": "stdout",
     "output_type": "stream",
     "text": [
      "<div class=\"content_title\">NASA Mars Mission Connects With Bosnian and Herzegovinian Town</div>\n"
     ]
    }
   ],
   "source": [
    "title_elem = slide_elem.find('div', class_='content_title')\n",
    "print(title_elem)"
   ]
  },
  {
   "cell_type": "code",
   "execution_count": 15,
   "metadata": {},
   "outputs": [
    {
     "name": "stdout",
     "output_type": "stream",
     "text": [
      "NASA Mars Mission Connects With Bosnian and Herzegovinian Town\n"
     ]
    }
   ],
   "source": [
    "# Extract all the text elements\n",
    "title = title_elem.get_text()\n",
    "print(title)"
   ]
  },
  {
   "cell_type": "markdown",
   "metadata": {},
   "source": [
    "### Step 3: Store the Results\n",
    "\n",
    "Extract the titles and preview text of the news articles that you scraped. Store the scraping results in Python data structures as follows:\n",
    "\n",
    "* Store each title-and-preview pair in a Python dictionary. And, give each dictionary two keys: `title` and `preview`. An example is the following:\n",
    "\n",
    "  ```python\n",
    "  {'title': \"Mars Rover Begins Mission!\", \n",
    "        'preview': \"NASA's Mars Rover begins a multiyear mission to collect data about the little-explored planet.\"}\n",
    "  ```\n",
    "\n",
    "* Store all the dictionaries in a Python list.\n",
    "\n",
    "* Print the list in your notebook."
   ]
  },
  {
   "cell_type": "code",
   "execution_count": 7,
   "metadata": {},
   "outputs": [],
   "source": [
    "# Create an empty list to store the dictionaries\n",
    "articles_list = []"
   ]
  },
  {
   "cell_type": "code",
   "execution_count": 8,
   "metadata": {},
   "outputs": [],
   "source": [
    "# Loop through the text elements\n",
    "# Extract the title and preview text from the elements\n",
    "# Store each title and preview pair in a dictionary\n",
    "# Add the dictionary to the list\n",
    "\n",
    "html = browser.html\n",
    "soup1 = soup(html, 'html.parser')\n",
    "\n",
    "\n",
    "    \n",
    "main_area = soup1.find_all(\"div\", class_=\"list_text\")\n",
    "\n",
    "\n",
    "    \n",
    "for article in main_area:\n",
    "    title = article.find(\"div\", class_=\"content_title\").text.strip()\n",
    "    preview = article.find(\"div\", class_=\"article_teaser_body\").text.strip()\n",
    "        \n",
    "        \n",
    "        \n",
    "    summary_dict = {\n",
    "        \"title\": title,\n",
    "        \"preview\": preview\n",
    "    }\n",
    "    articles_list.append(summary_dict)"
   ]
  },
  {
   "cell_type": "code",
   "execution_count": 9,
   "metadata": {},
   "outputs": [
    {
     "data": {
      "text/plain": [
       "[{'title': 'NASA Mars Mission Connects With Bosnian and Herzegovinian Town',\n",
       "  'preview': 'A letter from NASA was presented to the mayor of Jezero, Bosnia-Herzegovina, honoring the connection between the town and Jezero Crater, the Mars 2020 rover landing site.'},\n",
       " {'title': \"NASA's Perseverance Rover Attached to Atlas V Rocket\",\n",
       "  'preview': 'Ready for its launch later in the month, the Mars-bound rover will touch terra firma no more.'},\n",
       " {'title': \"NASA's Treasure Map for Water Ice on Mars\",\n",
       "  'preview': 'A new study identifies frozen water just below the Martian surface, where astronauts could easily dig it up.'},\n",
       " {'title': 'Global Storms on Mars Launch Dust Towers Into the Sky',\n",
       "  'preview': 'A Mars Dust Tower Stands Out Dust storms are common on Mars. But every decade or so, something unpredictable happens: a series of runaway storms break out, covering the entire planet in a dusty haze.'},\n",
       " {'title': \"NASA's MAVEN Observes Martian Night Sky Pulsing in Ultraviolet Light\",\n",
       "  'preview': 'Vast areas of the Martian night sky pulse in ultraviolet light, according to images from NASA’s MAVEN spacecraft. The results are being used to illuminate complex circulation patterns in the Martian atmosphere.'},\n",
       " {'title': \"HiRISE Views NASA's InSight and Curiosity on Mars\",\n",
       "  'preview': 'New images taken from space offer the clearest orbital glimpse yet of InSight as well as a view of Curiosity rolling along.'},\n",
       " {'title': \"NASA's Mars 2020 Will Hunt for Microscopic Fossils\",\n",
       "  'preview': \"A new paper identifies a ring of minerals at the rover's landing site that are ideal for fossilizing microbial life.\"},\n",
       " {'title': \"From JPL's Mailroom to Mars and Beyond\",\n",
       "  'preview': 'Bill Allen has thrived as the mechanical systems design lead for three Mars rover missions, but he got his start as a teenager sorting letters for the NASA center.'},\n",
       " {'title': \"NASA Engineers Checking InSight's Weather Sensors\",\n",
       "  'preview': 'An electronics issue is suspected to be preventing the sensors from sharing their data about Mars weather with the spacecraft.'},\n",
       " {'title': 'NASA to Broadcast Mars 2020 Perseverance Launch, Prelaunch Activities',\n",
       "  'preview': 'Starting July 27, news activities will cover everything from mission engineering and science to returning samples from Mars to, of course, the launch itself.'},\n",
       " {'title': 'Space History Is Made in This NASA Robot Factory',\n",
       "  'preview': \"From rockets to rovers, JPL's Spacecraft Assembly Facility has been at the center of robotic spaceflight. Here's a closer look at what makes it so special.\"},\n",
       " {'title': \"How NASA's Perseverance Mars Team Adjusted to Work in the Time of Coronavirus\",\n",
       "  'preview': 'Like much of the rest of the world, the Mars rover team is pushing forward with its mission-critical work while putting the health and safety of their colleagues and community first.'},\n",
       " {'title': \"The Launch Is Approaching for NASA's Next Mars Rover, Perseverance\",\n",
       "  'preview': \"The Red Planet's surface has been visited by eight NASA spacecraft. The ninth will be the first that includes a roundtrip ticket in its flight plan.\"},\n",
       " {'title': \"NASA Wins 4 Webbys, 4 People's Voice Awards\",\n",
       "  'preview': 'Winners include the JPL-managed \"Send Your Name to Mars\" campaign, NASA\\'s Global Climate Change website and Solar System Interactive.'},\n",
       " {'title': 'NASA to Reveal Name of Its Next Mars Rover',\n",
       "  'preview': \"After a months-long contest among students to name NASA's newest Mars rover, the agency will reveal the winning name — and the winning student — this Thursday.\"}]"
      ]
     },
     "execution_count": 9,
     "metadata": {},
     "output_type": "execute_result"
    }
   ],
   "source": [
    "# Print the list to confirm success\n",
    "articles_list\n"
   ]
  },
  {
   "cell_type": "code",
   "execution_count": 16,
   "metadata": {},
   "outputs": [],
   "source": [
    "browser.quit()"
   ]
  },
  {
   "cell_type": "markdown",
   "metadata": {},
   "source": [
    "### (Optional) Step 4: Export the Data\n",
    "\n",
    "Optionally, store the scraped data in a file or database (to ease sharing the data with others). To do so, export the scraped data to either a JSON file or a MongoDB database."
   ]
  },
  {
   "cell_type": "code",
   "execution_count": 17,
   "metadata": {},
   "outputs": [],
   "source": [
    "# Export data to JSON\n",
    "import json\n",
    "news_json = json.dumps(articles_list)"
   ]
  },
  {
   "cell_type": "code",
   "execution_count": 19,
   "metadata": {},
   "outputs": [],
   "source": [
    "# Export data to MongoDB\n",
    "from pymongo import MongoClient\n",
    "mongo = MongoClient (port = 27017)"
   ]
  },
  {
   "cell_type": "code",
   "execution_count": null,
   "metadata": {},
   "outputs": [],
   "source": []
  }
 ],
 "metadata": {
  "kernelspec": {
   "display_name": "Python 3 (ipykernel)",
   "language": "python",
   "name": "python3"
  },
  "language_info": {
   "codemirror_mode": {
    "name": "ipython",
    "version": 3
   },
   "file_extension": ".py",
   "mimetype": "text/x-python",
   "name": "python",
   "nbconvert_exporter": "python",
   "pygments_lexer": "ipython3",
   "version": "3.9.13"
  }
 },
 "nbformat": 4,
 "nbformat_minor": 4
}
